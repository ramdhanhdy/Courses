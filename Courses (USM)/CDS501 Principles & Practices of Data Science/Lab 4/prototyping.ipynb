{
 "cells": [
  {
   "cell_type": "code",
   "execution_count": null,
   "metadata": {},
   "outputs": [],
   "source": [
    "iqr_rule <- function(q1,q3){\n",
    "    iqr <<- q3-q1\n",
    "    S  <<- 1.5*iqr\n",
    "    UB <<- q3+S\n",
    "    LB <<- q1-s\n",
    "    x_range <<- c(LB, UB)\n",
    "}"
   ]
  }
 ],
 "metadata": {
  "kernelspec": {
   "display_name": "R",
   "language": "R",
   "name": "ir"
  },
  "language_info": {
   "codemirror_mode": "r",
   "file_extension": ".r",
   "mimetype": "text/x-r-source",
   "name": "R",
   "pygments_lexer": "r",
   "version": "3.6.1"
  }
 },
 "nbformat": 4,
 "nbformat_minor": 4
}
