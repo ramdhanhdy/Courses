{
 "cells": [
  {
   "cell_type": "markdown",
   "metadata": {},
   "source": [
    "## Exercises\n",
    "\n",
    "#### 1. Load Credit Risk dataset"
   ]
  },
  {
   "cell_type": "code",
   "execution_count": 1,
   "metadata": {},
   "outputs": [],
   "source": [
    "credit_data <- read.csv(\"credit.data.manage.csv\", sep=\",\", stringsAsFactors=TRUE)"
   ]
  },
  {
   "cell_type": "code",
   "execution_count": 2,
   "metadata": {},
   "outputs": [
    {
     "data": {
      "text/plain": [
       "      No.             Age             Sex           Job        Housing   \n",
       " Min.   :  0.0   Min.   :-58.00   female:310   Min.   :0.000   free:108  \n",
       " 1st Qu.:249.8   1st Qu.: 24.00   male  :690   1st Qu.:2.000   own :713  \n",
       " Median :499.5   Median : 31.00                Median :2.000   rent:179  \n",
       " Mean   :499.5   Mean   : 26.79                Mean   :1.904             \n",
       " 3rd Qu.:749.2   3rd Qu.: 40.00                3rd Qu.:2.000             \n",
       " Max.   :999.0   Max.   : 75.00                Max.   :3.000             \n",
       "                                                                         \n",
       " Credit.amount       Duration                   Purpose   \n",
       " Min.   :-15672   Min.   : 4.0   car                :337  \n",
       " 1st Qu.:  1273   1st Qu.:12.0   radio/TV           :280  \n",
       " Median :  2184   Median :18.0   furniture/equipment:181  \n",
       " Mean   :  2861   Mean   :20.9   business           : 97  \n",
       " 3rd Qu.:  3869   3rd Qu.:24.0   education          : 59  \n",
       " Max.   : 18424   Max.   :72.0   repairs            : 22  \n",
       "                                 (Other)            : 24  "
      ]
     },
     "metadata": {},
     "output_type": "display_data"
    }
   ],
   "source": [
    "summary(credit_data)"
   ]
  },
  {
   "cell_type": "code",
   "execution_count": 3,
   "metadata": {},
   "outputs": [
    {
     "data": {
      "text/html": [
       "<table>\n",
       "<thead><tr><th scope=col>No.</th><th scope=col>Age</th><th scope=col>Sex</th><th scope=col>Job</th><th scope=col>Housing</th><th scope=col>Credit.amount</th><th scope=col>Duration</th><th scope=col>Purpose</th></tr></thead>\n",
       "<tbody>\n",
       "\t<tr><td>0                  </td><td>67                 </td><td>male               </td><td>2                  </td><td>own                </td><td>1169               </td><td> 6                 </td><td>radio/TV           </td></tr>\n",
       "\t<tr><td>1                  </td><td>22                 </td><td>female             </td><td>2                  </td><td>own                </td><td>5951               </td><td>48                 </td><td>radio/TV           </td></tr>\n",
       "\t<tr><td>2                  </td><td>49                 </td><td>male               </td><td>1                  </td><td>own                </td><td>2096               </td><td>12                 </td><td>education          </td></tr>\n",
       "\t<tr><td>3                  </td><td>45                 </td><td>male               </td><td>2                  </td><td>free               </td><td>7882               </td><td>42                 </td><td>furniture/equipment</td></tr>\n",
       "\t<tr><td>4                  </td><td>53                 </td><td>male               </td><td>2                  </td><td>free               </td><td>4870               </td><td>24                 </td><td>car                </td></tr>\n",
       "\t<tr><td>5                  </td><td>35                 </td><td>male               </td><td>1                  </td><td>free               </td><td>9055               </td><td>36                 </td><td>education          </td></tr>\n",
       "</tbody>\n",
       "</table>\n"
      ],
      "text/latex": [
       "\\begin{tabular}{r|llllllll}\n",
       " No. & Age & Sex & Job & Housing & Credit.amount & Duration & Purpose\\\\\n",
       "\\hline\n",
       "\t 0                   & 67                  & male                & 2                   & own                 & 1169                &  6                  & radio/TV           \\\\\n",
       "\t 1                   & 22                  & female              & 2                   & own                 & 5951                & 48                  & radio/TV           \\\\\n",
       "\t 2                   & 49                  & male                & 1                   & own                 & 2096                & 12                  & education          \\\\\n",
       "\t 3                   & 45                  & male                & 2                   & free                & 7882                & 42                  & furniture/equipment\\\\\n",
       "\t 4                   & 53                  & male                & 2                   & free                & 4870                & 24                  & car                \\\\\n",
       "\t 5                   & 35                  & male                & 1                   & free                & 9055                & 36                  & education          \\\\\n",
       "\\end{tabular}\n"
      ],
      "text/markdown": [
       "\n",
       "| No. | Age | Sex | Job | Housing | Credit.amount | Duration | Purpose |\n",
       "|---|---|---|---|---|---|---|---|\n",
       "| 0                   | 67                  | male                | 2                   | own                 | 1169                |  6                  | radio/TV            |\n",
       "| 1                   | 22                  | female              | 2                   | own                 | 5951                | 48                  | radio/TV            |\n",
       "| 2                   | 49                  | male                | 1                   | own                 | 2096                | 12                  | education           |\n",
       "| 3                   | 45                  | male                | 2                   | free                | 7882                | 42                  | furniture/equipment |\n",
       "| 4                   | 53                  | male                | 2                   | free                | 4870                | 24                  | car                 |\n",
       "| 5                   | 35                  | male                | 1                   | free                | 9055                | 36                  | education           |\n",
       "\n"
      ],
      "text/plain": [
       "  No. Age Sex    Job Housing Credit.amount Duration Purpose            \n",
       "1 0   67  male   2   own     1169           6       radio/TV           \n",
       "2 1   22  female 2   own     5951          48       radio/TV           \n",
       "3 2   49  male   1   own     2096          12       education          \n",
       "4 3   45  male   2   free    7882          42       furniture/equipment\n",
       "5 4   53  male   2   free    4870          24       car                \n",
       "6 5   35  male   1   free    9055          36       education          "
      ]
     },
     "metadata": {},
     "output_type": "display_data"
    }
   ],
   "source": [
    "head(credit_data)"
   ]
  },
  {
   "cell_type": "markdown",
   "metadata": {},
   "source": [
    "<p>\n",
    "    <b>2. Replace negative values in Age column with median age.</b>\n",
    "</p>"
   ]
  },
  {
   "cell_type": "code",
   "execution_count": 4,
   "metadata": {},
   "outputs": [
    {
     "data": {
      "text/html": [
       "<ol class=list-inline>\n",
       "\t<li>1000</li>\n",
       "\t<li>1</li>\n",
       "</ol>\n"
      ],
      "text/latex": [
       "\\begin{enumerate*}\n",
       "\\item 1000\n",
       "\\item 1\n",
       "\\end{enumerate*}\n"
      ],
      "text/markdown": [
       "1. 1000\n",
       "2. 1\n",
       "\n",
       "\n"
      ],
      "text/plain": [
       "[1] 1000    1"
      ]
     },
     "metadata": {},
     "output_type": "display_data"
    }
   ],
   "source": [
    "# calculate how many values column Age has\n",
    "dim(credit_data[\"Age\"])"
   ]
  },
  {
   "cell_type": "code",
   "execution_count": 5,
   "metadata": {},
   "outputs": [
    {
     "data": {
      "text/html": [
       "116"
      ],
      "text/latex": [
       "116"
      ],
      "text/markdown": [
       "116"
      ],
      "text/plain": [
       "[1] 116"
      ]
     },
     "metadata": {},
     "output_type": "display_data"
    }
   ],
   "source": [
    "# calculate the number of negative values in Age column\n",
    "sum(credit_data[\"Age\"] < 0)"
   ]
  },
  {
   "cell_type": "markdown",
   "metadata": {},
   "source": [
    "So, there are 116 negatiove values in the `Age` column"
   ]
  },
  {
   "cell_type": "code",
   "execution_count": 6,
   "metadata": {},
   "outputs": [
    {
     "data": {
      "text/html": [
       "31"
      ],
      "text/latex": [
       "31"
      ],
      "text/markdown": [
       "31"
      ],
      "text/plain": [
       "[1] 31"
      ]
     },
     "metadata": {},
     "output_type": "display_data"
    }
   ],
   "source": [
    "# calculate median age \n",
    "median_age = median(credit_data[,2])\n",
    "median_age"
   ]
  },
  {
   "cell_type": "code",
   "execution_count": 7,
   "metadata": {},
   "outputs": [
    {
     "name": "stderr",
     "output_type": "stream",
     "text": [
      "Warning message:\n",
      "\"package 'dplyr' was built under R version 3.6.3\"\n",
      "Attaching package: 'dplyr'\n",
      "\n",
      "The following objects are masked from 'package:stats':\n",
      "\n",
      "    filter, lag\n",
      "\n",
      "The following objects are masked from 'package:base':\n",
      "\n",
      "    intersect, setdiff, setequal, union\n",
      "\n"
     ]
    }
   ],
   "source": [
    "# import dplyr package to use %>%\n",
    "library(dplyr)"
   ]
  },
  {
   "cell_type": "code",
   "execution_count": 8,
   "metadata": {},
   "outputs": [],
   "source": [
    "# replace the negative values in the Age column with it's median\n",
    "credit_data <- credit_data %>%\n",
    "    mutate(Age = ifelse(Age < 0, median_age, Age))"
   ]
  },
  {
   "cell_type": "code",
   "execution_count": 9,
   "metadata": {},
   "outputs": [
    {
     "data": {
      "text/html": [
       "0"
      ],
      "text/latex": [
       "0"
      ],
      "text/markdown": [
       "0"
      ],
      "text/plain": [
       "[1] 0"
      ]
     },
     "metadata": {},
     "output_type": "display_data"
    }
   ],
   "source": [
    "# count the negative values again\n",
    "sum(credit_data[\"Age\"] < 0)"
   ]
  },
  {
   "cell_type": "markdown",
   "metadata": {},
   "source": [
    "<p>\n",
    "    <b>3. Using IQR rule and empirical rule with −2.5𝜎 and 2.5𝜎, determine the valid range of Credit.amount column. Use only positive values when determining the valid range</b>\n",
    "</p>\n",
    "\n"
   ]
  },
  {
   "cell_type": "markdown",
   "metadata": {},
   "source": [
    "## determine outlier using IQR"
   ]
  },
  {
   "cell_type": "code",
   "execution_count": 10,
   "metadata": {},
   "outputs": [
    {
     "data": {
      "text/html": [
       "<strong>75%:</strong> 3869"
      ],
      "text/latex": [
       "\\textbf{75\\textbackslash{}\\%:} 3869"
      ],
      "text/markdown": [
       "**75%:** 3869"
      ],
      "text/plain": [
       " 75% \n",
       "3869 "
      ]
     },
     "metadata": {},
     "output_type": "display_data"
    }
   ],
   "source": [
    "# defining and calculating the 1st quartile q1\n",
    "q1 <- quantile(credit_data$Credit.amount, 0.25)\n",
    "\n",
    "# defining and calculating the 3rd quartile q3\n",
    "q3 <- quantile(credit_data$Credit.amount, 0.75)\n",
    "q3"
   ]
  },
  {
   "cell_type": "code",
   "execution_count": 79,
   "metadata": {},
   "outputs": [],
   "source": [
    "iqr_rule <- function(q1, q3){\n",
    "    #calculate iqr and bound limits\n",
    "    iqr <<- (q3 - q1)\n",
    "    low_bound <<- (q1 - (1.5*iqr))\n",
    "    up_bound <<- (q3 + (1.5*iqr))\n",
    "\n",
    "    #printing    \n",
    "    cat(\"iqr:\", iqr,\n",
    "     \"\\nlower bound:\", low_bound,\n",
    "     \"\\nupper bound:\", up_bound)\n",
    "}"
   ]
  },
  {
   "cell_type": "code",
   "execution_count": 12,
   "metadata": {},
   "outputs": [],
   "source": [
    "iqr_rule(q1, q3)"
   ]
  },
  {
   "cell_type": "code",
   "execution_count": 13,
   "metadata": {},
   "outputs": [
    {
     "name": "stdout",
     "output_type": "stream",
     "text": [
      "iqr: 2595.75 \n",
      "lower bound: -2620.375 \n",
      "upper bound: 7762.625"
     ]
    }
   ],
   "source": [
    "cat(\"iqr:\", iqr,\n",
    "     \"\\nlower bound:\", low_bound,\n",
    "     \"\\nupper bound:\", up_bound)"
   ]
  },
  {
   "cell_type": "markdown",
   "metadata": {},
   "source": [
    "For IQR rule, the valid range for `Credit.amount` is between 0 and the upper bound (7762.625) "
   ]
  },
  {
   "cell_type": "code",
   "execution_count": 14,
   "metadata": {},
   "outputs": [
    {
     "data": {
      "text/html": [
       "24"
      ],
      "text/latex": [
       "24"
      ],
      "text/markdown": [
       "24"
      ],
      "text/plain": [
       "[1] 24"
      ]
     },
     "metadata": {},
     "output_type": "display_data"
    },
    {
     "data": {
      "text/html": [
       "72"
      ],
      "text/latex": [
       "72"
      ],
      "text/markdown": [
       "72"
      ],
      "text/plain": [
       "[1] 72"
      ]
     },
     "metadata": {},
     "output_type": "display_data"
    }
   ],
   "source": [
    "# calculate how many data points are below the lower bound \n",
    "# and above the upper bound\n",
    "\n",
    "sum(credit_data[\"Credit.amount\"] < low_bound)\n",
    "sum(credit_data[\"Credit.amount\"] > up_bound)"
   ]
  },
  {
   "cell_type": "markdown",
   "metadata": {},
   "source": [
    "<mark>Now we know that there are `24` and `72` data points which are respectively below and above the bound limit set by the IQR rule. So, that makes it `96` data points that are considered as outliers</mark>"
   ]
  },
  {
   "cell_type": "code",
   "execution_count": 15,
   "metadata": {},
   "outputs": [
    {
     "name": "stderr",
     "output_type": "stream",
     "text": [
      "Warning message:\n",
      "\"package 'ggplot2' was built under R version 3.6.3\"Warning message:\n",
      "\"package 'MASS' was built under R version 3.6.3\"\n",
      "Attaching package: 'MASS'\n",
      "\n",
      "The following object is masked from 'package:dplyr':\n",
      "\n",
      "    select\n",
      "\n"
     ]
    }
   ],
   "source": [
    "library(ggplot2)\n",
    "library(MASS)"
   ]
  },
  {
   "cell_type": "code",
   "execution_count": 16,
   "metadata": {},
   "outputs": [
    {
     "name": "stderr",
     "output_type": "stream",
     "text": [
      "Installing package into 'C:/Users/ramdh/OneDrive/Documents/R/win-library/3.6'\n",
      "(as 'lib' is unspecified)\n",
      "Warning message:\n",
      "\"package 'MASS' is in use and will not be installed\""
     ]
    }
   ],
   "source": [
    "install.packages(\"MASS\")"
   ]
  },
  {
   "cell_type": "code",
   "execution_count": 127,
   "metadata": {
    "scrolled": false
   },
   "outputs": [
    {
     "data": {
      "image/png": "[encoded data removed]",
      "text/plain": [
       "plot without title"
      ]
     },
     "metadata": {},
     "output_type": "display_data"
    }
   ],
   "source": [
    " # plot the distribution of Credit.amount\n",
    "ggplot(credit_data, aes(x = Credit.amount)) +\n",
    "    geom_histogram(alpha = 1, bins = 50, fill = \"#d6a51e\") +\n",
    "    geom_vline(aes(xintercept = mean(Credit.amount, na.rm = FALSE)), \n",
    "               colour = \"red\", linetype = \"longdash\", size = .8) +\n",
    "    geom_vline(aes(xintercept = low_bound),\n",
    "               colour = \"#2c4fdb\", linetype = \"longdash\", size = .8) +\n",
    "    geom_vline(aes(xintercept = up_bound),\n",
    "                colour = \"#2c4fdb\", linetype = \"longdash\", size = .8)"
   ]
  },
  {
   "cell_type": "markdown",
   "metadata": {},
   "source": [
    "## determine outlier by using empirical rule (Chebyshev's Theorem)\n",
    "\n",
    "Chebychshev's Theorem: For any number $k$ greater than 1, at least $1-(\\frac{1}{k^2})$ of the data values lie within $k$ standard deviation of the mean\n",
    "\n",
    "In this case, the $k$ is set as ($k=2.5$). Thus, the range of value becomes:\n",
    "\n",
    "$$(\\mu-2.5\\sigma)<\\mu < (\\mu+2.5\\sigma)$$\n",
    "\n",
    "In addition, for the context of credit amount, the valid and meaningful value should be positive integer. The negative value could indicates debts thus omitted for the range of valid credit amount values.\n",
    "\n",
    "Therefore, the range of our valid credit amount adhering to the empirical rule becomes:\n",
    "\n",
    "$$0 < \\ Credit.amount_{valid} \\ < (\\mu+2.5\\sigma)$$\n"
   ]
  },
  {
   "cell_type": "code",
   "execution_count": 43,
   "metadata": {},
   "outputs": [],
   "source": [
    "# define a function to calculate limits set by the emprical rule\n",
    "empirical_rule <- function(k, mean, stdev){\n",
    "    #calculate lower and upper limit\n",
    "    empirical_up_limit <<- (mean+(k*stdev))\n",
    "    empirical_low_limit <<- (mean-(k*stdev))\n",
    "    \n",
    "    #print\n",
    "    cat(\"Lower limit:\", empirical_low_limit,\n",
    "        \"\\nUpper limit:\", empirical_up_limit)\n",
    "}"
   ]
  },
  {
   "cell_type": "code",
   "execution_count": 44,
   "metadata": {},
   "outputs": [
    {
     "name": "stdout",
     "output_type": "stream",
     "text": [
      "Lower limit: -5234.512 \n",
      "Upper limit: 10956.56"
     ]
    }
   ],
   "source": [
    "# calculate range limits using k=2.5\n",
    "empirical_rule(2.5, mean(credit_data[,6]), sd(credit_data[,6]))"
   ]
  },
  {
   "cell_type": "markdown",
   "metadata": {},
   "source": [
    "Thus, the valid range for the `Credit.amount` column is:\n",
    "\n",
    "$$ $0 \\ < \\ Credit.amount_{valid} \\ < \\ $10957$$"
   ]
  },
  {
   "cell_type": "code",
   "execution_count": 53,
   "metadata": {},
   "outputs": [
    {
     "data": {
      "image/png": "[encoded data removed]",
      "text/plain": [
       "plot without title"
      ]
     },
     "metadata": {},
     "output_type": "display_data"
    }
   ],
   "source": [
    " # plot the distribution of Credit.amount\n",
    "ggplot(credit_data, aes(x = Credit.amount)) +\n",
    "    geom_histogram(alpha = 1, bins = 50, fill = \"#d6a51e\") +\n",
    "    geom_vline(aes(xintercept = mean(Credit.amount, na.rm = FALSE)), \n",
    "               colour = \"red\", linetype = \"longdash\", size = .8) +\n",
    "    geom_vline(aes(xintercept = low_bound),\n",
    "               colour = \"#2c4fdb\", linetype = \"longdash\", size = .8) +\n",
    "    geom_vline(aes(xintercept = up_bound),\n",
    "                colour = \"#2c4fdb\", linetype = \"longdash\", size = .8) +\n",
    "    geom_vline(aes(xintercept = empirical_up_limit),\n",
    "                colour = \"#a949cc\", linetype = \"longdash\", size = .8) +\n",
    "    geom_vline(aes(xintercept = empirical_low_limit),\n",
    "                colour = \"#a949cc\", linetype = \"longdash\", size = .8) "
   ]
  },
  {
   "cell_type": "markdown",
   "metadata": {},
   "source": [
    "#### interesting finding:\n",
    "   - the empirical rule seems a better measure to use for this particular dataset. When assessing the lower limit set by both empirical and IQR rule, the values between the purple and blue line doesn't really looks like an outlier visually. However, the IQR rule here omits those values.\n",
    "  "
   ]
  },
  {
   "cell_type": "markdown",
   "metadata": {},
   "source": [
    "#### 4. Explain what to be done with the outliers in Credit.amount column\n",
    "\n",
    "- The outliers should be dropped before this dataset being used for modeling "
   ]
  },
  {
   "cell_type": "markdown",
   "metadata": {},
   "source": [
    "#### 5. Replace negative values in Credit.amount column with median value\n"
   ]
  },
  {
   "cell_type": "code",
   "execution_count": 54,
   "metadata": {},
   "outputs": [
    {
     "data": {
      "text/html": [
       "61"
      ],
      "text/latex": [
       "61"
      ],
      "text/markdown": [
       "61"
      ],
      "text/plain": [
       "[1] 61"
      ]
     },
     "metadata": {},
     "output_type": "display_data"
    }
   ],
   "source": [
    "# calculate the number of negative values in Credit.amount column\n",
    "sum(credit_data[\"Credit.amount\"] < 0)"
   ]
  },
  {
   "cell_type": "code",
   "execution_count": 64,
   "metadata": {},
   "outputs": [
    {
     "name": "stdout",
     "output_type": "stream",
     "text": [
      "Percentage of negative values in Credit.amount: 6.1 %"
     ]
    }
   ],
   "source": [
    "cat(\"Percentage of negative values in Credit.amount:\", \n",
    "    (sum(credit_data[\"Credit.amount\"]<0))/\n",
    "    (nrow(credit_data[\"Credit.amount\"]))*100, \"%\")"
   ]
  },
  {
   "cell_type": "code",
   "execution_count": 65,
   "metadata": {},
   "outputs": [
    {
     "data": {
      "text/html": [
       "2183.5"
      ],
      "text/latex": [
       "2183.5"
      ],
      "text/markdown": [
       "2183.5"
      ],
      "text/plain": [
       "[1] 2183.5"
      ]
     },
     "metadata": {},
     "output_type": "display_data"
    }
   ],
   "source": [
    "# calculate the median valeue for Credit.amount\n",
    "median_cred_amount = median(credit_data[,6])\n",
    "median_cred_amount"
   ]
  },
  {
   "cell_type": "code",
   "execution_count": 66,
   "metadata": {},
   "outputs": [],
   "source": [
    "# replace the negative values in the Credit.amount column with it's median\n",
    "credit_data <- credit_data %>%\n",
    "    mutate(Credit.amount = ifelse(Credit.amount < 0, median_cred_amount, Credit.amount))"
   ]
  },
  {
   "cell_type": "code",
   "execution_count": 67,
   "metadata": {},
   "outputs": [
    {
     "data": {
      "text/html": [
       "0"
      ],
      "text/latex": [
       "0"
      ],
      "text/markdown": [
       "0"
      ],
      "text/plain": [
       "[1] 0"
      ]
     },
     "metadata": {},
     "output_type": "display_data"
    }
   ],
   "source": [
    "# calculate the number of negative values in Credit.amount column again\n",
    "sum(credit_data[\"Credit.amount\"] < 0)"
   ]
  },
  {
   "cell_type": "code",
   "execution_count": 76,
   "metadata": {},
   "outputs": [],
   "source": [
    "# recalculate some parameters after replacing negative values\n",
    "\n",
    "# defining and calculating the updated 1st quartile \n",
    "q1_new <- quantile(credit_data$Credit.amount, 0.25)\n",
    "\n",
    "# defining and calculating the updated 3rd quartile \n",
    "q3_new <- quantile(credit_data$Credit.amount, 0.75)\n",
    "\n"
   ]
  },
  {
   "cell_type": "code",
   "execution_count": 81,
   "metadata": {},
   "outputs": [
    {
     "name": "stdout",
     "output_type": "stream",
     "text": [
      "Lower limit: -3549.521 \n",
      "Upper limit: 9948.19"
     ]
    }
   ],
   "source": [
    "# recalculate mean and limits after replacing negative values\n",
    "empirical_rule(2.5, mean(credit_data[,6]), sd(credit_data[,6]))"
   ]
  },
  {
   "cell_type": "code",
   "execution_count": 82,
   "metadata": {},
   "outputs": [
    {
     "name": "stdout",
     "output_type": "stream",
     "text": [
      "iqr: 2461.5 \n",
      "lower bound: -2284.75 \n",
      "upper bound: 7561.25"
     ]
    }
   ],
   "source": [
    "iqr_rule(q1_new, q3_new)"
   ]
  },
  {
   "cell_type": "code",
   "execution_count": 88,
   "metadata": {},
   "outputs": [
    {
     "data": {
      "image/png": "[encoded data removed]",
      "text/plain": [
       "plot without title"
      ]
     },
     "metadata": {},
     "output_type": "display_data"
    }
   ],
   "source": [
    "# plot the distribution of Credit.amount after updating\n",
    "ggplot(credit_data, aes(x = Credit.amount)) +\n",
    "    geom_histogram(alpha = 1, bins = 50, fill = \"#d6a51e\") +\n",
    "    geom_vline(aes(xintercept = mean(Credit.amount, na.rm = FALSE)), \n",
    "               colour = \"red\", linetype = \"longdash\", size = .8) +\n",
    "    geom_vline(aes(xintercept = low_bound),\n",
    "               colour = \"#2c4fdb\", linetype = \"longdash\", size = .8) +\n",
    "    geom_vline(aes(xintercept = up_bound),\n",
    "                colour = \"#2c4fdb\", linetype = \"longdash\", size = .8) +\n",
    "    geom_vline(aes(xintercept = empirical_up_limit),\n",
    "                colour = \"#a949cc\", linetype = \"longdash\", size = .8) +\n",
    "    geom_vline(aes(xintercept = empirical_low_limit),\n",
    "                colour = \"#a949cc\", linetype = \"longdash\", size = .8) "
   ]
  },
  {
   "cell_type": "markdown",
   "metadata": {},
   "source": [
    "**The bound limits also changed!**"
   ]
  },
  {
   "cell_type": "markdown",
   "metadata": {},
   "source": [
    "#### 5. Derive a new attribute called Credit amount per duration attribute."
   ]
  },
  {
   "cell_type": "code",
   "execution_count": 70,
   "metadata": {},
   "outputs": [
    {
     "data": {
      "text/html": [
       "<ol class=list-inline>\n",
       "\t<li>1169</li>\n",
       "\t<li>5951</li>\n",
       "\t<li>2096</li>\n",
       "\t<li>7882</li>\n",
       "\t<li>4870</li>\n",
       "\t<li>9055</li>\n",
       "</ol>\n"
      ],
      "text/latex": [
       "\\begin{enumerate*}\n",
       "\\item 1169\n",
       "\\item 5951\n",
       "\\item 2096\n",
       "\\item 7882\n",
       "\\item 4870\n",
       "\\item 9055\n",
       "\\end{enumerate*}\n"
      ],
      "text/markdown": [
       "1. 1169\n",
       "2. 5951\n",
       "3. 2096\n",
       "4. 7882\n",
       "5. 4870\n",
       "6. 9055\n",
       "\n",
       "\n"
      ],
      "text/plain": [
       "[1] 1169 5951 2096 7882 4870 9055"
      ]
     },
     "metadata": {},
     "output_type": "display_data"
    }
   ],
   "source": [
    "head(credit_data[,6])"
   ]
  },
  {
   "cell_type": "code",
   "execution_count": 74,
   "metadata": {},
   "outputs": [
    {
     "data": {
      "text/html": [
       "<ol class=list-inline>\n",
       "\t<li>6</li>\n",
       "\t<li>48</li>\n",
       "\t<li>12</li>\n",
       "\t<li>42</li>\n",
       "\t<li>24</li>\n",
       "\t<li>36</li>\n",
       "\t<li>30</li>\n",
       "\t<li>15</li>\n",
       "\t<li>9</li>\n",
       "\t<li>10</li>\n",
       "\t<li>7</li>\n",
       "\t<li>60</li>\n",
       "\t<li>18</li>\n",
       "\t<li>45</li>\n",
       "\t<li>11</li>\n",
       "\t<li>27</li>\n",
       "\t<li>8</li>\n",
       "\t<li>54</li>\n",
       "\t<li>20</li>\n",
       "\t<li>14</li>\n",
       "\t<li>33</li>\n",
       "\t<li>21</li>\n",
       "\t<li>16</li>\n",
       "\t<li>4</li>\n",
       "\t<li>47</li>\n",
       "\t<li>13</li>\n",
       "\t<li>22</li>\n",
       "\t<li>39</li>\n",
       "\t<li>28</li>\n",
       "\t<li>5</li>\n",
       "\t<li>26</li>\n",
       "\t<li>72</li>\n",
       "\t<li>40</li>\n",
       "</ol>\n"
      ],
      "text/latex": [
       "\\begin{enumerate*}\n",
       "\\item 6\n",
       "\\item 48\n",
       "\\item 12\n",
       "\\item 42\n",
       "\\item 24\n",
       "\\item 36\n",
       "\\item 30\n",
       "\\item 15\n",
       "\\item 9\n",
       "\\item 10\n",
       "\\item 7\n",
       "\\item 60\n",
       "\\item 18\n",
       "\\item 45\n",
       "\\item 11\n",
       "\\item 27\n",
       "\\item 8\n",
       "\\item 54\n",
       "\\item 20\n",
       "\\item 14\n",
       "\\item 33\n",
       "\\item 21\n",
       "\\item 16\n",
       "\\item 4\n",
       "\\item 47\n",
       "\\item 13\n",
       "\\item 22\n",
       "\\item 39\n",
       "\\item 28\n",
       "\\item 5\n",
       "\\item 26\n",
       "\\item 72\n",
       "\\item 40\n",
       "\\end{enumerate*}\n"
      ],
      "text/markdown": [
       "1. 6\n",
       "2. 48\n",
       "3. 12\n",
       "4. 42\n",
       "5. 24\n",
       "6. 36\n",
       "7. 30\n",
       "8. 15\n",
       "9. 9\n",
       "10. 10\n",
       "11. 7\n",
       "12. 60\n",
       "13. 18\n",
       "14. 45\n",
       "15. 11\n",
       "16. 27\n",
       "17. 8\n",
       "18. 54\n",
       "19. 20\n",
       "20. 14\n",
       "21. 33\n",
       "22. 21\n",
       "23. 16\n",
       "24. 4\n",
       "25. 47\n",
       "26. 13\n",
       "27. 22\n",
       "28. 39\n",
       "29. 28\n",
       "30. 5\n",
       "31. 26\n",
       "32. 72\n",
       "33. 40\n",
       "\n",
       "\n"
      ],
      "text/plain": [
       " [1]  6 48 12 42 24 36 30 15  9 10  7 60 18 45 11 27  8 54 20 14 33 21 16  4 47\n",
       "[26] 13 22 39 28  5 26 72 40"
      ]
     },
     "metadata": {},
     "output_type": "display_data"
    }
   ],
   "source": [
    "unique(credit_data[,7])"
   ]
  },
  {
   "cell_type": "code",
   "execution_count": 84,
   "metadata": {},
   "outputs": [],
   "source": [
    "# defining credit amount per duration attribute\n",
    "\n",
    "credit_data$credit_per_duration <- credit_data[,6]/credit_data[,7]"
   ]
  },
  {
   "cell_type": "code",
   "execution_count": 85,
   "metadata": {},
   "outputs": [
    {
     "data": {
      "text/html": [
       "<table>\n",
       "<thead><tr><th scope=col>No.</th><th scope=col>Age</th><th scope=col>Sex</th><th scope=col>Job</th><th scope=col>Housing</th><th scope=col>Credit.amount</th><th scope=col>Duration</th><th scope=col>Purpose</th><th scope=col>credit_per_duration</th></tr></thead>\n",
       "<tbody>\n",
       "\t<tr><td>0                  </td><td>67                 </td><td>male               </td><td>2                  </td><td>own                </td><td>1169               </td><td> 6                 </td><td>radio/TV           </td><td>194.8333           </td></tr>\n",
       "\t<tr><td>1                  </td><td>22                 </td><td>female             </td><td>2                  </td><td>own                </td><td>5951               </td><td>48                 </td><td>radio/TV           </td><td>123.9792           </td></tr>\n",
       "\t<tr><td>2                  </td><td>49                 </td><td>male               </td><td>1                  </td><td>own                </td><td>2096               </td><td>12                 </td><td>education          </td><td>174.6667           </td></tr>\n",
       "\t<tr><td>3                  </td><td>45                 </td><td>male               </td><td>2                  </td><td>free               </td><td>7882               </td><td>42                 </td><td>furniture/equipment</td><td>187.6667           </td></tr>\n",
       "\t<tr><td>4                  </td><td>53                 </td><td>male               </td><td>2                  </td><td>free               </td><td>4870               </td><td>24                 </td><td>car                </td><td>202.9167           </td></tr>\n",
       "\t<tr><td>5                  </td><td>35                 </td><td>male               </td><td>1                  </td><td>free               </td><td>9055               </td><td>36                 </td><td>education          </td><td>251.5278           </td></tr>\n",
       "</tbody>\n",
       "</table>\n"
      ],
      "text/latex": [
       "\\begin{tabular}{r|lllllllll}\n",
       " No. & Age & Sex & Job & Housing & Credit.amount & Duration & Purpose & credit\\_per\\_duration\\\\\n",
       "\\hline\n",
       "\t 0                   & 67                  & male                & 2                   & own                 & 1169                &  6                  & radio/TV            & 194.8333           \\\\\n",
       "\t 1                   & 22                  & female              & 2                   & own                 & 5951                & 48                  & radio/TV            & 123.9792           \\\\\n",
       "\t 2                   & 49                  & male                & 1                   & own                 & 2096                & 12                  & education           & 174.6667           \\\\\n",
       "\t 3                   & 45                  & male                & 2                   & free                & 7882                & 42                  & furniture/equipment & 187.6667           \\\\\n",
       "\t 4                   & 53                  & male                & 2                   & free                & 4870                & 24                  & car                 & 202.9167           \\\\\n",
       "\t 5                   & 35                  & male                & 1                   & free                & 9055                & 36                  & education           & 251.5278           \\\\\n",
       "\\end{tabular}\n"
      ],
      "text/markdown": [
       "\n",
       "| No. | Age | Sex | Job | Housing | Credit.amount | Duration | Purpose | credit_per_duration |\n",
       "|---|---|---|---|---|---|---|---|---|\n",
       "| 0                   | 67                  | male                | 2                   | own                 | 1169                |  6                  | radio/TV            | 194.8333            |\n",
       "| 1                   | 22                  | female              | 2                   | own                 | 5951                | 48                  | radio/TV            | 123.9792            |\n",
       "| 2                   | 49                  | male                | 1                   | own                 | 2096                | 12                  | education           | 174.6667            |\n",
       "| 3                   | 45                  | male                | 2                   | free                | 7882                | 42                  | furniture/equipment | 187.6667            |\n",
       "| 4                   | 53                  | male                | 2                   | free                | 4870                | 24                  | car                 | 202.9167            |\n",
       "| 5                   | 35                  | male                | 1                   | free                | 9055                | 36                  | education           | 251.5278            |\n",
       "\n"
      ],
      "text/plain": [
       "  No. Age Sex    Job Housing Credit.amount Duration Purpose            \n",
       "1 0   67  male   2   own     1169           6       radio/TV           \n",
       "2 1   22  female 2   own     5951          48       radio/TV           \n",
       "3 2   49  male   1   own     2096          12       education          \n",
       "4 3   45  male   2   free    7882          42       furniture/equipment\n",
       "5 4   53  male   2   free    4870          24       car                \n",
       "6 5   35  male   1   free    9055          36       education          \n",
       "  credit_per_duration\n",
       "1 194.8333           \n",
       "2 123.9792           \n",
       "3 174.6667           \n",
       "4 187.6667           \n",
       "5 202.9167           \n",
       "6 251.5278           "
      ]
     },
     "metadata": {},
     "output_type": "display_data"
    }
   ],
   "source": [
    "head(credit_data)"
   ]
  }
 ],
 "metadata": {
  "kernelspec": {
   "display_name": "R",
   "language": "R",
   "name": "ir"
  },
  "language_info": {
   "codemirror_mode": "r",
   "file_extension": ".r",
   "mimetype": "text/x-r-source",
   "name": "R",
   "pygments_lexer": "r",
   "version": "3.6.1"
  }
 },
 "nbformat": 4,
 "nbformat_minor": 4
}
