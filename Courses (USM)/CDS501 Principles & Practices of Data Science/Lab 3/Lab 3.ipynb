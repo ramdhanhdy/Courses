{
 "cells": [
  {
   "cell_type": "markdown",
   "metadata": {},
   "source": [
    "## Exercises\n",
    "\n",
    "1. Download boston dataset from eLearn@USM"
   ]
  },
  {
   "cell_type": "code",
   "execution_count": 91,
   "metadata": {},
   "outputs": [],
   "source": [
    "boston_data <- read.csv(\"boston.data.csv\", sep=\",\",  stringsAsFactors=TRUE)"
   ]
  },
  {
   "cell_type": "markdown",
   "metadata": {},
   "source": [
    "2. Load the datase"
   ]
  },
  {
   "cell_type": "code",
   "execution_count": 92,
   "metadata": {},
   "outputs": [
    {
     "data": {
      "text/plain": [
       "      CRIM               ZN            INDUS             CHAS       \n",
       " Min.   :0.00000   Min.   :  0.0   Min.   : 0.000   Min.   :0.0000  \n",
       " 1st Qu.:0.04944   1st Qu.:  0.0   1st Qu.: 3.440   1st Qu.:0.0000  \n",
       " Median :0.14466   Median :  0.0   Median : 6.960   Median :0.0000  \n",
       " Mean   :1.26920   Mean   : 13.3   Mean   : 9.205   Mean   :0.1408  \n",
       " 3rd Qu.:0.81962   3rd Qu.: 18.1   3rd Qu.:18.100   3rd Qu.:0.0000  \n",
       " Max.   :9.96654   Max.   :100.0   Max.   :27.740   Max.   :1.0000  \n",
       "                                                                    \n",
       "      NOX              RM               AGE               DIS        \n",
       " Min.   :0.385   Min.   :  3.561   Min.   :  1.137   Min.   : 1.130  \n",
       " 1st Qu.:0.449   1st Qu.:  5.962   1st Qu.: 32.000   1st Qu.: 2.431  \n",
       " Median :0.538   Median :  6.322   Median : 65.250   Median : 3.926  \n",
       " Mean   :1.101   Mean   : 15.680   Mean   : 58.745   Mean   : 6.173  \n",
       " 3rd Qu.:0.647   3rd Qu.:  6.949   3rd Qu.: 89.975   3rd Qu.: 6.332  \n",
       " Max.   :7.313   Max.   :100.000   Max.   :100.000   Max.   :24.000  \n",
       "                                                                     \n",
       "      RAD              TAX           PTRATIO             B         \n",
       " Min.   :  1.00   Min.   : 20.2   Min.   :  2.60   Min.   :  0.32  \n",
       " 1st Qu.:  4.00   1st Qu.:254.0   1st Qu.: 17.00   1st Qu.:365.00  \n",
       " Median :  5.00   Median :307.0   Median : 18.90   Median :390.66  \n",
       " Mean   : 78.06   Mean   :339.3   Mean   : 42.62   Mean   :332.79  \n",
       " 3rd Qu.: 24.00   3rd Qu.:403.0   3rd Qu.: 20.20   3rd Qu.:395.62  \n",
       " Max.   :666.00   Max.   :711.0   Max.   :396.90   Max.   :396.90  \n",
       "                                                                   \n",
       "     LSTAT             MEDV      \n",
       " Min.   : 1.730   Min.   : 6.30  \n",
       " 1st Qu.: 6.878   1st Qu.:18.50  \n",
       " Median :10.380   Median :21.95  \n",
       " Mean   :11.538   Mean   :23.75  \n",
       " 3rd Qu.:15.015   3rd Qu.:26.60  \n",
       " Max.   :34.410   Max.   :50.00  \n",
       "                  NA's   :54     "
      ]
     },
     "metadata": {},
     "output_type": "display_data"
    }
   ],
   "source": [
    "summary(boston_data)"
   ]
  },
  {
   "cell_type": "markdown",
   "metadata": {},
   "source": [
    "3. Detect any missing value in the dataset\n",
    "\n",
    "    - Answer: from the summary of the data we can see there are missing values on `MEDV` column\n",
    "    \n",
    "\n",
    "\n",
    "4. Detect any outlier in column DIS using boxplot\n"
   ]
  },
  {
   "cell_type": "code",
   "execution_count": 120,
   "metadata": {},
   "outputs": [
    {
     "ename": "ERROR",
     "evalue": "Error in library(mgcv): there is no package called 'mgcv'\n",
     "output_type": "error",
     "traceback": [
      "Error in library(mgcv): there is no package called 'mgcv'\nTraceback:\n",
      "1. library(mgcv)"
     ]
    }
   ],
   "source": [
    "library(ggplot2)\n",
    "library(scales)\n",
    "library(mgcv)"
   ]
  },
  {
   "cell_type": "code",
   "execution_count": 99,
   "metadata": {},
   "outputs": [
    {
     "data": {
      "text/html": [
       "'data.frame'"
      ],
      "text/latex": [
       "'data.frame'"
      ],
      "text/markdown": [
       "'data.frame'"
      ],
      "text/plain": [
       "[1] \"data.frame\""
      ]
     },
     "metadata": {},
     "output_type": "display_data"
    }
   ],
   "source": [
    "class(boston_data$DIS_df)"
   ]
  },
  {
   "cell_type": "code",
   "execution_count": 115,
   "metadata": {},
   "outputs": [
    {
     "data": {
      "image/png": "[encoded data removed]",
      "text/plain": [
       "plot without title"
      ]
     },
     "metadata": {},
     "output_type": "display_data"
    }
   ],
   "source": [
    "ggplot(boston_data, aes(x=1, y=DIS)) + \n",
    "  geom_boxplot() +\n",
    "  scale_x_continuous(breaks = NULL) + #removes the tick markers from the x axis\n",
    "  theme(axis.title.x = element_blank())"
   ]
  },
  {
   "cell_type": "markdown",
   "metadata": {},
   "source": [
    "Answer: As shown by the boxplot above, there is one outlier in DIS column "
   ]
  },
  {
   "cell_type": "markdown",
   "metadata": {},
   "source": [
    "5. Write a programming function for IQR rule. The function should accept first quartile and third quartile as arguments and return the lower and upper bounds as a vector. Use the function to detect any outlier in column LSTAT"
   ]
  },
  {
   "cell_type": "markdown",
   "metadata": {},
   "source": [
    "$$IQR = Q3 - Q1$$\n",
    "\n",
    "\n",
    "$Q3 : 75^{th}\\ percentile$\n",
    "\n",
    "$Q1 : 25^{th}\\ percentile$"
   ]
  },
  {
   "cell_type": "code",
   "execution_count": 64,
   "metadata": {},
   "outputs": [
    {
     "data": {
      "text/html": [
       "<strong>25%:</strong> 6.8775"
      ],
      "text/latex": [
       "\\textbf{25\\textbackslash{}\\%:} 6.8775"
      ],
      "text/markdown": [
       "**25%:** 6.8775"
      ],
      "text/plain": [
       "   25% \n",
       "6.8775 "
      ]
     },
     "metadata": {},
     "output_type": "display_data"
    }
   ],
   "source": [
    "# defining and calculating Q1\n",
    "Q1 <- quantile(boston_data$LSTAT, 0.25)\n",
    "Q1"
   ]
  },
  {
   "cell_type": "code",
   "execution_count": 65,
   "metadata": {},
   "outputs": [
    {
     "data": {
      "text/html": [
       "<strong>75%:</strong> 15.015"
      ],
      "text/latex": [
       "\\textbf{75\\textbackslash{}\\%:} 15.015"
      ],
      "text/markdown": [
       "**75%:** 15.015"
      ],
      "text/plain": [
       "   75% \n",
       "15.015 "
      ]
     },
     "metadata": {},
     "output_type": "display_data"
    }
   ],
   "source": [
    "# defining and calculating Q3\n",
    "Q3 <- quantile(boston_data$LSTAT, 0.75)\n",
    "Q3"
   ]
  },
  {
   "cell_type": "markdown",
   "metadata": {},
   "source": [
    "$$Upper\\ bound\\ =\\ Q3 + (1.5\\ x\\ IQR)$$\n",
    "$$Lower\\ bound\\ =\\ Q1 - (1.5\\ x\\ IQR)$$"
   ]
  },
  {
   "cell_type": "code",
   "execution_count": 56,
   "metadata": {},
   "outputs": [],
   "source": [
    "iqr_bound <- function(Q1, Q3){\n",
    "    iqr <- (Q3 - Q1)\n",
    "    low_bound <- (Q1 - (1.5*iqr))\n",
    "    up_bound <- (Q3 + (1.5*iqr))\n",
    "cat(paste(\"iqr = \", iqr, \"\\nlower-bound = \", low_bound, \n",
    "          \"\\nupper-bound = \", up_bound))\n",
    "}"
   ]
  },
  {
   "cell_type": "code",
   "execution_count": 55,
   "metadata": {},
   "outputs": [
    {
     "name": "stdout",
     "output_type": "stream",
     "text": [
      "iqr =  8.1375 \n",
      "lower-bound =  -5.32875 \n",
      "upper-bound =  27.22125"
     ]
    }
   ],
   "source": [
    "iqr_bound(Q1, Q3)"
   ]
  },
  {
   "cell_type": "markdown",
   "metadata": {},
   "source": [
    "6. Examine the relationship between attribute AGE and attribute TAX. Determine if it is a positive or negative correlation or no correlation"
   ]
  },
  {
   "cell_type": "code",
   "execution_count": 134,
   "metadata": {
    "scrolled": true
   },
   "outputs": [
    {
     "name": "stderr",
     "output_type": "stream",
     "text": [
      "`geom_smooth()` using method = 'loess' and formula 'y ~ x'\n"
     ]
    },
    {
     "data": {
      "image/png": "[encoded data removed]",
      "text/plain": [
       "plot without title"
      ]
     },
     "metadata": {},
     "output_type": "display_data"
    }
   ],
   "source": [
    "ggplot(boston_data, aes(x=AGE, y=TAX)) + geom_point() + ylim(0, 1000) + geom_smooth()"
   ]
  },
  {
   "cell_type": "markdown",
   "metadata": {},
   "source": [
    "Answer : There is no clear correlation between attribute AGE and TAX\n",
    "\n",
    "\n",
    "7. Visualize the relationship between AGE and TAX and fit a linear line through the data. Observe the slope of the linear line"
   ]
  },
  {
   "cell_type": "code",
   "execution_count": 130,
   "metadata": {},
   "outputs": [
    {
     "name": "stderr",
     "output_type": "stream",
     "text": [
      "`geom_smooth()` using formula 'y ~ x'\n"
     ]
    },
    {
     "data": {
      "image/png": "[encoded data removed]",
      "text/plain": [
       "plot without title"
      ]
     },
     "metadata": {},
     "output_type": "display_data"
    }
   ],
   "source": [
    "ggplot(boston_data, aes(x=AGE, y=TAX)) + geom_point() + ylim(0,1000) + stat_smooth(method='lm')"
   ]
  }
 ],
 "metadata": {
  "kernelspec": {
   "display_name": "R",
   "language": "R",
   "name": "ir"
  },
  "language_info": {
   "codemirror_mode": "r",
   "file_extension": ".r",
   "mimetype": "text/x-r-source",
   "name": "R",
   "pygments_lexer": "r",
   "version": "3.6.1"
  }
 },
 "nbformat": 4,
 "nbformat_minor": 4
}
