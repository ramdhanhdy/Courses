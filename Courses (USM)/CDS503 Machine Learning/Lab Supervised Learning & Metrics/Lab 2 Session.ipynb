{
 "cells": [
  {
   "cell_type": "markdown",
   "metadata": {},
   "source": [
    "## CRISP-DM Methodology\n",
    "\n",
    "1. Business Understanding\n",
    "2. Data Understanding\n",
    "    - 2.1 Data Plotting\n",
    "3. Data Preparation\n",
    "4. Modeling\n",
    "5. Evaluation\n",
    "6. Deployment\n",
    "\n",
    "### 1. Business Understanding\n",
    "\n",
    "### Questions :\n",
    "    - Where the data comes from?\n",
    "    - What are the specifications of the data?\n",
    "    \n",
    "    \n",
    "    - The data set comes from teaching assistant evaluation of the Statistic Department, University of Wisconsin-Madison. \n",
    "    - The data set is composed of 151 rows of data examples or examples or instances. Each instance corresponds to a teachinf assistant evaluation from a course"
   ]
  },
  {
   "cell_type": "markdown",
   "metadata": {},
   "source": [
    "## 2. Data Understanding \n",
    "\n",
    "**Description of the data:**\n",
    "\n",
    "In this dataset, there are 6 attributes including the class attributeindicating the class/category information\n",
    "\n",
    "The 6 attributes are:\n",
    "  1. Native English speaker or not (binary)\n",
    "      - 1 (English)\n",
    "      - 2 (Non-English)\n",
    "  2. Course instructor (categorical)\n",
    "      - 25 Categories\n",
    "  3. Course (categorical)\n",
    "      - 26 Categories\n",
    "  4. Summer or Regular Semester (Binary)\n",
    "      - 1 (Summer)\n",
    "      - 2 (Regular)\n",
    "  5. Class Size (Numerical)\n",
    "      - Numbers\n",
    "  6. Class Attributes\n",
    "      - 1 (Low)\n",
    "      - 2 (Medium)\n",
    "      - 3 (High)"
   ]
  },
  {
   "cell_type": "code",
   "execution_count": 1,
   "metadata": {},
   "outputs": [],
   "source": [
    "import pandas as pd\n",
    "import numpy as np\n",
    "\n",
    "df_2019 = pd.read_csv('tae.csv')"
   ]
  },
  {
   "cell_type": "code",
   "execution_count": 2,
   "metadata": {},
   "outputs": [
    {
     "data": {
      "text/html": [
       "<div>\n",
       "<style scoped>\n",
       "    .dataframe tbody tr th:only-of-type {\n",
       "        vertical-align: middle;\n",
       "    }\n",
       "\n",
       "    .dataframe tbody tr th {\n",
       "        vertical-align: top;\n",
       "    }\n",
       "\n",
       "    .dataframe thead th {\n",
       "        text-align: right;\n",
       "    }\n",
       "</style>\n",
       "<table border=\"1\" class=\"dataframe\">\n",
       "  <thead>\n",
       "    <tr style=\"text-align: right;\">\n",
       "      <th></th>\n",
       "      <th>1</th>\n",
       "      <th>23</th>\n",
       "      <th>3</th>\n",
       "      <th>1.1</th>\n",
       "      <th>19</th>\n",
       "      <th>3.1</th>\n",
       "    </tr>\n",
       "  </thead>\n",
       "  <tbody>\n",
       "    <tr>\n",
       "      <th>count</th>\n",
       "      <td>150.000000</td>\n",
       "      <td>150.000000</td>\n",
       "      <td>150.000000</td>\n",
       "      <td>150.000000</td>\n",
       "      <td>150.000000</td>\n",
       "      <td>150.000000</td>\n",
       "    </tr>\n",
       "    <tr>\n",
       "      <th>mean</th>\n",
       "      <td>1.813333</td>\n",
       "      <td>13.580000</td>\n",
       "      <td>8.140000</td>\n",
       "      <td>1.853333</td>\n",
       "      <td>27.926667</td>\n",
       "      <td>2.013333</td>\n",
       "    </tr>\n",
       "    <tr>\n",
       "      <th>std</th>\n",
       "      <td>0.390949</td>\n",
       "      <td>6.805318</td>\n",
       "      <td>7.034937</td>\n",
       "      <td>0.354958</td>\n",
       "      <td>12.916405</td>\n",
       "      <td>0.819123</td>\n",
       "    </tr>\n",
       "    <tr>\n",
       "      <th>min</th>\n",
       "      <td>1.000000</td>\n",
       "      <td>1.000000</td>\n",
       "      <td>1.000000</td>\n",
       "      <td>1.000000</td>\n",
       "      <td>3.000000</td>\n",
       "      <td>1.000000</td>\n",
       "    </tr>\n",
       "    <tr>\n",
       "      <th>25%</th>\n",
       "      <td>2.000000</td>\n",
       "      <td>8.000000</td>\n",
       "      <td>3.000000</td>\n",
       "      <td>2.000000</td>\n",
       "      <td>19.000000</td>\n",
       "      <td>1.000000</td>\n",
       "    </tr>\n",
       "    <tr>\n",
       "      <th>50%</th>\n",
       "      <td>2.000000</td>\n",
       "      <td>13.000000</td>\n",
       "      <td>4.500000</td>\n",
       "      <td>2.000000</td>\n",
       "      <td>27.000000</td>\n",
       "      <td>2.000000</td>\n",
       "    </tr>\n",
       "    <tr>\n",
       "      <th>75%</th>\n",
       "      <td>2.000000</td>\n",
       "      <td>20.000000</td>\n",
       "      <td>15.000000</td>\n",
       "      <td>2.000000</td>\n",
       "      <td>37.000000</td>\n",
       "      <td>3.000000</td>\n",
       "    </tr>\n",
       "    <tr>\n",
       "      <th>max</th>\n",
       "      <td>2.000000</td>\n",
       "      <td>25.000000</td>\n",
       "      <td>26.000000</td>\n",
       "      <td>2.000000</td>\n",
       "      <td>66.000000</td>\n",
       "      <td>3.000000</td>\n",
       "    </tr>\n",
       "  </tbody>\n",
       "</table>\n",
       "</div>"
      ],
      "text/plain": [
       "                1          23           3         1.1          19         3.1\n",
       "count  150.000000  150.000000  150.000000  150.000000  150.000000  150.000000\n",
       "mean     1.813333   13.580000    8.140000    1.853333   27.926667    2.013333\n",
       "std      0.390949    6.805318    7.034937    0.354958   12.916405    0.819123\n",
       "min      1.000000    1.000000    1.000000    1.000000    3.000000    1.000000\n",
       "25%      2.000000    8.000000    3.000000    2.000000   19.000000    1.000000\n",
       "50%      2.000000   13.000000    4.500000    2.000000   27.000000    2.000000\n",
       "75%      2.000000   20.000000   15.000000    2.000000   37.000000    3.000000\n",
       "max      2.000000   25.000000   26.000000    2.000000   66.000000    3.000000"
      ]
     },
     "execution_count": 2,
     "metadata": {},
     "output_type": "execute_result"
    }
   ],
   "source": [
    "# describe the data\n",
    "df_2019.describe()"
   ]
  },
  {
   "cell_type": "code",
   "execution_count": 3,
   "metadata": {},
   "outputs": [
    {
     "name": "stdout",
     "output_type": "stream",
     "text": [
      "<class 'pandas.core.frame.DataFrame'>\n",
      "RangeIndex: 150 entries, 0 to 149\n",
      "Data columns (total 6 columns):\n",
      " #   Column  Non-Null Count  Dtype\n",
      "---  ------  --------------  -----\n",
      " 0   1       150 non-null    int64\n",
      " 1   23      150 non-null    int64\n",
      " 2   3       150 non-null    int64\n",
      " 3   1.1     150 non-null    int64\n",
      " 4   19      150 non-null    int64\n",
      " 5   3.1     150 non-null    int64\n",
      "dtypes: int64(6)\n",
      "memory usage: 7.2 KB\n"
     ]
    }
   ],
   "source": [
    "# get the shape/dimension of data\n",
    "df_2019.info()"
   ]
  },
  {
   "cell_type": "code",
   "execution_count": 4,
   "metadata": {},
   "outputs": [
    {
     "data": {
      "text/html": [
       "<div>\n",
       "<style scoped>\n",
       "    .dataframe tbody tr th:only-of-type {\n",
       "        vertical-align: middle;\n",
       "    }\n",
       "\n",
       "    .dataframe tbody tr th {\n",
       "        vertical-align: top;\n",
       "    }\n",
       "\n",
       "    .dataframe thead th {\n",
       "        text-align: right;\n",
       "    }\n",
       "</style>\n",
       "<table border=\"1\" class=\"dataframe\">\n",
       "  <thead>\n",
       "    <tr style=\"text-align: right;\">\n",
       "      <th></th>\n",
       "      <th>NativeSpeaker</th>\n",
       "      <th>CourseInstructor</th>\n",
       "      <th>Course</th>\n",
       "      <th>Semester</th>\n",
       "      <th>ClassSize</th>\n",
       "      <th>ClassAttribute</th>\n",
       "    </tr>\n",
       "  </thead>\n",
       "  <tbody>\n",
       "    <tr>\n",
       "      <th>count</th>\n",
       "      <td>150.000000</td>\n",
       "      <td>150.000000</td>\n",
       "      <td>150.000000</td>\n",
       "      <td>150.000000</td>\n",
       "      <td>150.000000</td>\n",
       "      <td>150.000000</td>\n",
       "    </tr>\n",
       "    <tr>\n",
       "      <th>mean</th>\n",
       "      <td>1.813333</td>\n",
       "      <td>13.580000</td>\n",
       "      <td>8.140000</td>\n",
       "      <td>1.853333</td>\n",
       "      <td>27.926667</td>\n",
       "      <td>2.013333</td>\n",
       "    </tr>\n",
       "    <tr>\n",
       "      <th>std</th>\n",
       "      <td>0.390949</td>\n",
       "      <td>6.805318</td>\n",
       "      <td>7.034937</td>\n",
       "      <td>0.354958</td>\n",
       "      <td>12.916405</td>\n",
       "      <td>0.819123</td>\n",
       "    </tr>\n",
       "    <tr>\n",
       "      <th>min</th>\n",
       "      <td>1.000000</td>\n",
       "      <td>1.000000</td>\n",
       "      <td>1.000000</td>\n",
       "      <td>1.000000</td>\n",
       "      <td>3.000000</td>\n",
       "      <td>1.000000</td>\n",
       "    </tr>\n",
       "    <tr>\n",
       "      <th>25%</th>\n",
       "      <td>2.000000</td>\n",
       "      <td>8.000000</td>\n",
       "      <td>3.000000</td>\n",
       "      <td>2.000000</td>\n",
       "      <td>19.000000</td>\n",
       "      <td>1.000000</td>\n",
       "    </tr>\n",
       "    <tr>\n",
       "      <th>50%</th>\n",
       "      <td>2.000000</td>\n",
       "      <td>13.000000</td>\n",
       "      <td>4.500000</td>\n",
       "      <td>2.000000</td>\n",
       "      <td>27.000000</td>\n",
       "      <td>2.000000</td>\n",
       "    </tr>\n",
       "    <tr>\n",
       "      <th>75%</th>\n",
       "      <td>2.000000</td>\n",
       "      <td>20.000000</td>\n",
       "      <td>15.000000</td>\n",
       "      <td>2.000000</td>\n",
       "      <td>37.000000</td>\n",
       "      <td>3.000000</td>\n",
       "    </tr>\n",
       "    <tr>\n",
       "      <th>max</th>\n",
       "      <td>2.000000</td>\n",
       "      <td>25.000000</td>\n",
       "      <td>26.000000</td>\n",
       "      <td>2.000000</td>\n",
       "      <td>66.000000</td>\n",
       "      <td>3.000000</td>\n",
       "    </tr>\n",
       "  </tbody>\n",
       "</table>\n",
       "</div>"
      ],
      "text/plain": [
       "       NativeSpeaker  CourseInstructor      Course    Semester   ClassSize  \\\n",
       "count     150.000000        150.000000  150.000000  150.000000  150.000000   \n",
       "mean        1.813333         13.580000    8.140000    1.853333   27.926667   \n",
       "std         0.390949          6.805318    7.034937    0.354958   12.916405   \n",
       "min         1.000000          1.000000    1.000000    1.000000    3.000000   \n",
       "25%         2.000000          8.000000    3.000000    2.000000   19.000000   \n",
       "50%         2.000000         13.000000    4.500000    2.000000   27.000000   \n",
       "75%         2.000000         20.000000   15.000000    2.000000   37.000000   \n",
       "max         2.000000         25.000000   26.000000    2.000000   66.000000   \n",
       "\n",
       "       ClassAttribute  \n",
       "count      150.000000  \n",
       "mean         2.013333  \n",
       "std          0.819123  \n",
       "min          1.000000  \n",
       "25%          1.000000  \n",
       "50%          2.000000  \n",
       "75%          3.000000  \n",
       "max          3.000000  "
      ]
     },
     "execution_count": 4,
     "metadata": {},
     "output_type": "execute_result"
    }
   ],
   "source": [
    "# adding column name to the respective columns\n",
    "df.columns = ['NativeSpeaker', 'CourseInstructor', 'Course',\n",
    "              'Semester', 'ClassSize', 'ClassAttribute']\n",
    "\n",
    "df.describe()"
   ]
  },
  {
   "cell_type": "code",
   "execution_count": 5,
   "metadata": {},
   "outputs": [
    {
     "data": {
      "text/plain": [
       "3     44\n",
       "2     16\n",
       "1     14\n",
       "15    10\n",
       "17    10\n",
       "11     9\n",
       "7      7\n",
       "5      5\n",
       "8      4\n",
       "9      3\n",
       "25     3\n",
       "13     3\n",
       "16     3\n",
       "21     3\n",
       "22     3\n",
       "18     2\n",
       "6      2\n",
       "14     1\n",
       "12     1\n",
       "10     1\n",
       "19     1\n",
       "20     1\n",
       "4      1\n",
       "23     1\n",
       "24     1\n",
       "26     1\n",
       "Name: Course, dtype: int64"
      ]
     },
     "execution_count": 5,
     "metadata": {},
     "output_type": "execute_result"
    }
   ],
   "source": [
    "# Count observations based on attribute\n",
    "df['Course'].value_counts()"
   ]
  },
  {
   "cell_type": "markdown",
   "metadata": {},
   "source": [
    "*check Null values from data*"
   ]
  },
  {
   "cell_type": "code",
   "execution_count": 6,
   "metadata": {},
   "outputs": [],
   "source": [
    "# select rows from dataframe\n",
    "x = df.iloc[:,:-1]"
   ]
  },
  {
   "cell_type": "code",
   "execution_count": 7,
   "metadata": {},
   "outputs": [
    {
     "data": {
      "text/plain": [
       "NativeSpeaker       0\n",
       "CourseInstructor    0\n",
       "Course              0\n",
       "Semester            0\n",
       "ClassSize           0\n",
       "dtype: int64"
      ]
     },
     "execution_count": 7,
     "metadata": {},
     "output_type": "execute_result"
    }
   ],
   "source": [
    "# sum of null data based on attributes\n",
    "x.isnull().sum()"
   ]
  },
  {
   "cell_type": "markdown",
   "metadata": {},
   "source": [
    "### 2.1 Data Plotting"
   ]
  },
  {
   "cell_type": "code",
   "execution_count": 8,
   "metadata": {},
   "outputs": [],
   "source": [
    "# library for plotting\n",
    "import matplotlib.pyplot as plt\n",
    "\n",
    "# line required for inline charts/plots\n",
    "%matplotlib inline\n",
    "\n",
    "# library for evaluation metrics\n",
    "from sklearn import metrics\n",
    "\n",
    "# library for sampling the dataset\n",
    "from sklearn.model_selection import train_test_split"
   ]
  },
  {
   "cell_type": "code",
   "execution_count": 9,
   "metadata": {},
   "outputs": [
    {
     "data": {
      "image/png": "[encoded data removed]",
      "text/plain": [
       "<Figure size 1080x360 with 2 Axes>"
      ]
     },
     "metadata": {
      "needs_background": "light"
     },
     "output_type": "display_data"
    }
   ],
   "source": [
    "# size the figure to fit 2 figures on the same line\n",
    "plt.figure(2, figsize=(15,5))\n",
    "\n",
    "# subplot 1\n",
    "plt.subplot(1, 2, 1)\n",
    "# scatter plot 1\n",
    "plt.scatter(x=x.iloc[:,1], y=x.iloc[:,2], edgecolor='k')\n",
    "plt.xlabel('Course Instructor')\n",
    "plt.ylabel('Course')\n",
    "\n",
    "# subplot 2\n",
    "plt.subplot(1, 2, 2)\n",
    "# scatterplot 2\n",
    "plt.scatter(x=x.iloc[:,2], y=x.iloc[:,4], edgecolor='r')\n",
    "plt.xlabel('Course')\n",
    "plt.ylabel('Class Size')\n",
    "\n",
    "# show the resulting plot\n",
    "plt.show()"
   ]
  },
  {
   "cell_type": "markdown",
   "metadata": {},
   "source": [
    "### extras : reproduce above visualization in ggplot!"
   ]
  },
  {
   "cell_type": "code",
   "execution_count": 47,
   "metadata": {},
   "outputs": [],
   "source": [
    "# import ggplot and required aes\n",
    "from plotnine import ggplot, aes, scale_color_manual, geom_point"
   ]
  },
  {
   "cell_type": "code",
   "execution_count": 58,
   "metadata": {},
   "outputs": [
    {
     "data": {
      "image/png": "[encoded data removed]",
      "text/plain": [
       "<Figure size 640x480 with 1 Axes>"
      ]
     },
     "metadata": {},
     "output_type": "display_data"
    },
    {
     "data": {
      "text/plain": [
       "<ggplot: (-9223371911840211880)>"
      ]
     },
     "execution_count": 58,
     "metadata": {},
     "output_type": "execute_result"
    }
   ],
   "source": [
    "# PLot CourseInstructor vs Course\n",
    "(\n",
    "    ggplot(df, aes(x=\"CourseInstructor\", y=\"Course\", colour=\"y\")) +\n",
    "    geom_point() \n",
    ")"
   ]
  },
  {
   "cell_type": "code",
   "execution_count": 56,
   "metadata": {},
   "outputs": [
    {
     "data": {
      "image/png": "[encoded data removed]",
      "text/plain": [
       "<Figure size 640x480 with 1 Axes>"
      ]
     },
     "metadata": {},
     "output_type": "display_data"
    },
    {
     "data": {
      "text/plain": [
       "<ggplot: (-9223371911840524108)>"
      ]
     },
     "execution_count": 56,
     "metadata": {},
     "output_type": "execute_result"
    }
   ],
   "source": [
    "# PLot Course vs Course Instructor\n",
    "(\n",
    "    ggplot(df, aes(x=\"Course\", y=\"CourseInstructor\", colour=\"y\")) +\n",
    "    geom_point()\n",
    ")"
   ]
  },
  {
   "cell_type": "markdown",
   "metadata": {},
   "source": [
    "### 3. Data Preparation\n",
    "\n",
    "The target label `Class` is categorical (attribute = 1, 2, and 3), then `label encoder` is required"
   ]
  },
  {
   "cell_type": "code",
   "execution_count": 54,
   "metadata": {},
   "outputs": [
    {
     "name": "stdout",
     "output_type": "stream",
     "text": [
      "     NativeSpeaker  CourseInstructor  Course  Semester  ClassSize\n",
      "0                2                15       3         1         17\n",
      "1                1                23       3         2         49\n",
      "2                1                 5       2         2         33\n",
      "3                2                 7      11         2         55\n",
      "4                2                23       3         1         20\n",
      "..             ...               ...     ...       ...        ...\n",
      "145              2                 3       2         2         26\n",
      "146              2                10       3         2         12\n",
      "147              1                18       7         2         48\n",
      "148              2                22       1         2         51\n",
      "149              2                 2      10         2         27\n",
      "\n",
      "[150 rows x 5 columns]\n",
      "[2 2 2 2 2 2 2 2 2 2 2 2 2 1 1 1 1 1 1 1 1 1 1 1 1 1 1 0 0 0 0 0 0 0 0 0 0\n",
      " 0 2 2 2 2 2 2 2 2 2 2 2 2 2 2 1 1 1 1 1 1 1 1 1 1 1 1 1 1 0 0 0 0 0 0 0 0\n",
      " 0 0 0 2 2 2 2 2 2 2 2 2 2 2 2 2 2 2 2 2 1 1 1 1 1 1 1 1 1 1 1 1 0 0 0 0 0\n",
      " 0 0 0 0 0 0 0 0 0 2 2 2 2 2 2 2 1 1 1 1 1 1 1 1 1 1 0 0 0 0 0 0 0 0 0 0 0\n",
      " 0 0]\n"
     ]
    }
   ],
   "source": [
    "# import label encoder library to deal with categorical data\n",
    "from sklearn.preprocessing import LabelEncoder\n",
    "\n",
    "# select all columns except the last one (the target label)\n",
    "x = df.iloc[:,:-1]\n",
    "\n",
    "# set target categorical data label (sixth attribute)\n",
    "y = df.iloc[:,5]\n",
    "\n",
    "labelencoder = LabelEncoder()\n",
    "y = labelencoder.fit_transform(y)\n",
    "print(x)\n",
    "print(y)"
   ]
  },
  {
   "cell_type": "code",
   "execution_count": 55,
   "metadata": {},
   "outputs": [
    {
     "data": {
      "text/plain": [
       "numpy.ndarray"
      ]
     },
     "execution_count": 55,
     "metadata": {},
     "output_type": "execute_result"
    }
   ],
   "source": [
    "type(y)"
   ]
  },
  {
   "cell_type": "code",
   "execution_count": 59,
   "metadata": {},
   "outputs": [],
   "source": [
    "# import machine learning library to sample the data\n",
    "from sklearn.model_selection import train_test_split\n",
    "\n",
    "x_train, x_test, y_train, y_test = train_test_split(x, y, test_size=0.4, random_state=0)"
   ]
  },
  {
   "cell_type": "code",
   "execution_count": 60,
   "metadata": {},
   "outputs": [
    {
     "data": {
      "text/plain": [
       "StandardScaler(copy=True, with_mean=True, with_std=True)"
      ]
     },
     "execution_count": 60,
     "metadata": {},
     "output_type": "execute_result"
    }
   ],
   "source": [
    "# import machine learning library to standardize the data\n",
    "from sklearn.preprocessing import StandardScaler\n",
    "\n",
    "sc = StandardScaler()\n",
    "sc.fit_transform(x_train, y_train)\n",
    "sc.fit(x_test, y_test)"
   ]
  },
  {
   "cell_type": "code",
   "execution_count": null,
   "metadata": {},
   "outputs": [],
   "source": []
  }
 ],
 "metadata": {
  "kernelspec": {
   "display_name": "Python 3",
   "language": "python",
   "name": "python3"
  },
  "language_info": {
   "codemirror_mode": {
    "name": "ipython",
    "version": 3
   },
   "file_extension": ".py",
   "mimetype": "text/x-python",
   "name": "python",
   "nbconvert_exporter": "python",
   "pygments_lexer": "ipython3",
   "version": "3.7.6"
  }
 },
 "nbformat": 4,
 "nbformat_minor": 4
}
